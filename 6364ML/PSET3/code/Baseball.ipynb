{
 "cells": [
  {
   "cell_type": "code",
   "execution_count": 83,
   "metadata": {},
   "outputs": [],
   "source": [
    "from sklearn.model_selection import train_test_split\n",
    "from sklearn.preprocessing import StandardScaler \n",
    "from pandas import read_csv, DataFrame\n",
    "import matplotlib.pyplot as plt\n",
    "from sklearn.model_selection import cross_val_score\n",
    "import numpy as np\n",
    "data= read_csv(\"baseball-9192.csv\")\n",
    "y = data[\"Salary\"]"
   ]
  },
  {
   "cell_type": "code",
   "execution_count": 72,
   "metadata": {},
   "outputs": [],
   "source": [
    "from sklearn.linear_model import LinearRegression\n",
    "cv_MSE = []\n",
    "cv_r2 = []\n",
    "best_variable, best_r2 = 0,0\n",
    "for i in range(2,13):\n",
    "    lm = LinearRegression()\n",
    "    data_x = data.iloc[:,i:i+1]\n",
    "    avg_r2 = np.mean(cross_val_score(lm,data_x, y, cv=10,scoring='r2'))\n",
    "    avg_MSE =  np.mean(cross_val_score(lm,data_x, y, cv=10,scoring='neg_mean_squared_error'))\n",
    "    cv_r2.append(avg_r2)\n",
    "    cv_MSE.append(avg_MSE)\n",
    "    if avg_r2 > best_r2:\n",
    "        best_r2=avg_r2\n",
    "        best_variable=i   "
   ]
  },
  {
   "cell_type": "code",
   "execution_count": 35,
   "metadata": {},
   "outputs": [
    {
     "data": {
      "image/png": "[encoded data removed]",
      "text/plain": [
       "<Figure size 640x480 with 1 Axes>"
      ]
     },
     "metadata": {},
     "output_type": "display_data"
    }
   ],
   "source": [
    "import matplotlib.pyplot as plt\n",
    "\n",
    "plt.bar(range(len(cv_score)), cv_score, tick_label=labels[2:13])\n",
    "plt.show()"
   ]
  },
  {
   "cell_type": "code",
   "execution_count": 73,
   "metadata": {},
   "outputs": [],
   "source": [
    "dataframe = DataFrame({'variable':labels[2:13],'R2':cv_r2,'MSE':list(map(abs,cv_MSE))})\n",
    "dataframe.to_csv(\"test.csv\",index=False,sep=',')\n"
   ]
  },
  {
   "cell_type": "code",
   "execution_count": null,
   "metadata": {},
   "outputs": [],
   "source": [
    "X = data_train[:,2:13]\n",
    "# Split Data\n",
    "X_train, X_test, y_train, y_test = train_test_split(X, y, test_size=0.25, random_state=1)"
   ]
  },
  {
   "cell_type": "code",
   "execution_count": 87,
   "metadata": {},
   "outputs": [],
   "source": [
    "import itertools as it\n",
    "from sklearn.preprocessing import StandardScaler\n",
    "labels =data.columns.values.tolist()\n",
    "x_labels =labels[2:13] \n",
    "cb = it.combinations(x_labels, 2)\n",
    "lm = LinearRegression()\n",
    "cv_MSE = []\n",
    "cv_r2 = []\n",
    "variable_list = []\n",
    "best = 100000000000000000000\n",
    "sc = StandardScaler()\n",
    "data_x = sc.fit_transform(data[x_labels])\n",
    "data_x=DataFrame(data=data_x,columns=x_labels)\n",
    "for i in range(1,len(x_labels)):\n",
    "    combine = it.combinations(x_labels, i)\n",
    "    for combination in combine:\n",
    "        test_data = data_x[list(combination)]\n",
    "        variable_list.append(list(combination))\n",
    "        avg_r2 = np.mean(cross_val_score(lm,test_data, y,n_jobs=-1 ,cv=5,scoring='r2'))\n",
    "        avg_MSE =  abs(np.mean(cross_val_score(lm,test_data, y,n_jobs=-1, cv=5,scoring='neg_mean_squared_error')))\n",
    "        cv_r2.append(avg_r2)\n",
    "        cv_MSE.append(avg_MSE)\n",
    "        if avg_MSE < best:\n",
    "            best=avg_MSE\n",
    "            best_variable= combination"
   ]
  },
  {
   "cell_type": "code",
   "execution_count": 70,
   "metadata": {},
   "outputs": [],
   "source": [
    "dataframe = DataFrame({'combination':variable_list,'R2':cv_r2,'MSE':cv_MSE})\n",
    "dataframe.to_csv(\"problem3.csv\",index=False,sep=',')"
   ]
  },
  {
   "cell_type": "code",
   "execution_count": 60,
   "metadata": {},
   "outputs": [
    {
     "name": "stdout",
     "output_type": "stream",
     "text": [
      "['BattingAvg']\n",
      "['OnBasePct']\n",
      "['Runs']\n",
      "['Hits']\n",
      "['Doubles']\n",
      "['Triples']\n",
      "['HomeRuns']\n",
      "['RBI']\n",
      "['Walks']\n",
      "['Strikeouts']\n",
      "['StolenBases']\n"
     ]
    }
   ],
   "source": [
    "combine = it.combinations(x_labels, 1)\n",
    "for i in combine:\n",
    "    print(list(i))"
   ]
  }
 ],
 "metadata": {
  "kernelspec": {
   "display_name": "Python 3",
   "language": "python",
   "name": "python3"
  },
  "language_info": {
   "codemirror_mode": {
    "name": "ipython",
    "version": 3
   },
   "file_extension": ".py",
   "mimetype": "text/x-python",
   "name": "python",
   "nbconvert_exporter": "python",
   "pygments_lexer": "ipython3",
   "version": "3.10.9"
  },
  "orig_nbformat": 4,
  "vscode": {
   "interpreter": {
    "hash": "d99a3f7b344b3c3107482760db15f42178bfad658d282ab0a919b76809e13cb5"
   }
  }
 },
 "nbformat": 4,
 "nbformat_minor": 2
}
