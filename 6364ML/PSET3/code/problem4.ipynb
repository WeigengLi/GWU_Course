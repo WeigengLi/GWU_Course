{
 "cells": [
  {
   "cell_type": "code",
   "execution_count": null,
   "metadata": {},
   "outputs": [],
   "source": [
    "from sklearn.preprocessing import StandardScaler \n",
    "from pandas import read_csv, DataFrame\n",
    "import matplotlib.pyplot as plt\n",
    "from sklearn.model_selection import cross_val_score\n",
    "import numpy as np\n",
    "from sklearn.linear_model import LinearRegression, LogisticRegression\n",
    "import itertools as it\n",
    "from sklearn.preprocessing import StandardScaler\n",
    "import random\n",
    "data_train = read_csv(\"data_mnist.csv\")\n",
    "data_test = read_csv(\"test_mnist.csv\")\n",
    "penalties = ['l2', None]\n",
    "y = data_train[\"label\"]\n",
    "X = data_train.iloc[:,1:]\n",
    "results = dict()\n",
    "for penalty in penalties:\n",
    "    results[penalty] =[]\n",
    "for i in range(1000,1200,100):\n",
    "    for penalty in penalties:\n",
    "        logistic = LogisticRegression(penalty=penalty,max_iter=i,n_jobs=-1)\n",
    "        score = np.mean(cross_val_score(logistic,X,y,scoring='accuracy',n_jobs=-1,cv=10))\n",
    "        results[penalty].append(score)"
   ]
  }
 ],
 "metadata": {
  "kernelspec": {
   "display_name": "Python 3",
   "language": "python",
   "name": "python3"
  },
  "language_info": {
   "name": "python",
   "version": "3.10.9"
  },
  "orig_nbformat": 4,
  "vscode": {
   "interpreter": {
    "hash": "d99a3f7b344b3c3107482760db15f42178bfad658d282ab0a919b76809e13cb5"
   }
  }
 },
 "nbformat": 4,
 "nbformat_minor": 2
}
