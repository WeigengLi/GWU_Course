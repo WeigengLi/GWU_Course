{
 "cells": [
  {
   "attachments": {},
   "cell_type": "markdown",
   "metadata": {},
   "source": [
    "Load Environment"
   ]
  },
  {
   "cell_type": "code",
   "execution_count": 1,
   "metadata": {},
   "outputs": [],
   "source": [
    "from sklearn.preprocessing import StandardScaler \n",
    "from sklearn.model_selection import cross_val_score\n",
    "from sklearn.preprocessing import StandardScaler\n",
    "from sklearn.tree import DecisionTreeClassifier,plot_tree\n",
    "from sklearn.ensemble import RandomForestClassifier\n",
    "import random\n",
    "from pandas import read_csv, DataFrame,concat,get_dummies\n",
    "import numpy as np\n",
    "import matplotlib.pyplot as plt\n"
   ]
  },
  {
   "attachments": {},
   "cell_type": "markdown",
   "metadata": {},
   "source": [
    "Load Data"
   ]
  },
  {
   "cell_type": "code",
   "execution_count": 2,
   "metadata": {},
   "outputs": [],
   "source": [
    "data=read_csv('Pokemon.csv')\n",
    "y=data['Legendary']\n",
    "X = data.iloc[:,1:-1]"
   ]
  },
  {
   "cell_type": "code",
   "execution_count": 3,
   "metadata": {},
   "outputs": [
    {
     "data": {
      "text/plain": [
       "800"
      ]
     },
     "execution_count": 3,
     "metadata": {},
     "output_type": "execute_result"
    }
   ],
   "source": [
    "len(y)"
   ]
  },
  {
   "attachments": {},
   "cell_type": "markdown",
   "metadata": {},
   "source": [
    "Preprocessing"
   ]
  },
  {
   "cell_type": "code",
   "execution_count": 4,
   "metadata": {},
   "outputs": [
    {
     "name": "stdout",
     "output_type": "stream",
     "text": [
      "['Name', 'Type 1', 'Type 2', 'Total', 'HP', 'Attack', 'Defense', 'Sp. Atk', 'Sp. Def', 'Speed', 'Generation']\n"
     ]
    }
   ],
   "source": [
    "print(X.columns.tolist())"
   ]
  },
  {
   "cell_type": "code",
   "execution_count": 5,
   "metadata": {},
   "outputs": [],
   "source": [
    "X_labels =['Name', 'Type 1', 'Type 2', 'Total', 'HP', 'Attack', 'Defense', 'Sp. Atk', 'Sp. Def', 'Speed', 'Generation']\n",
    "continuous_labels = ['Total', 'HP', 'Attack', 'Defense', 'Sp. Atk', 'Sp. Def', 'Speed', 'Generation']\n",
    "discrete_labels = ['Type 1', 'Type 2']\n",
    "X_discrete = X[discrete_labels]\n",
    "X_continuous = X[continuous_labels]\n",
    "# Scale Continuous Data\n",
    "scaler = StandardScaler()\n",
    "X_continuous=scaler.fit_transform(X_continuous)\n",
    "X_continuous = DataFrame(data=X_continuous,columns=continuous_labels) \n",
    "# Change Discrete Data to One Hot Code\n",
    "X_discrete = get_dummies(X_discrete)"
   ]
  },
  {
   "cell_type": "code",
   "execution_count": 6,
   "metadata": {},
   "outputs": [],
   "source": [
    "# Resemble data\n",
    "X = concat([X_discrete, X_continuous],axis =1)"
   ]
  },
  {
   "attachments": {},
   "cell_type": "markdown",
   "metadata": {},
   "source": [
    "Configuration"
   ]
  },
  {
   "cell_type": "code",
   "execution_count": 7,
   "metadata": {},
   "outputs": [],
   "source": [
    "cv_fold=10\n",
    "random_seed = 42"
   ]
  },
  {
   "attachments": {},
   "cell_type": "markdown",
   "metadata": {},
   "source": [
    "Training Decision Tree"
   ]
  },
  {
   "cell_type": "code",
   "execution_count": 8,
   "metadata": {},
   "outputs": [],
   "source": [
    "criterions = ['gini', 'entropy', 'log_loss']\n",
    "max_depth_list = range(1,30)\n",
    "result_dict = dict()\n",
    "best_accuracy = 0\n",
    "best_depth = 0\n",
    "for criteria in criterions:\n",
    "    result_dict[criteria] = []\n",
    "for max_depth in max_depth_list:\n",
    "    for criteria in criterions:\n",
    "        DT = DecisionTreeClassifier(max_depth=max_depth,criterion=criteria,random_state=42)\n",
    "        cv_score = np.mean(cross_val_score(DT,X,y,scoring='roc_auc',n_jobs=-1,cv=cv_fold))\n",
    "        result_dict[criteria].append(cv_score)\n",
    "        if cv_score > best_accuracy:\n",
    "            best_accuracy = cv_score\n",
    "            best_depth = max_depth\n",
    "            best_criteria = criteria"
   ]
  },
  {
   "attachments": {},
   "cell_type": "markdown",
   "metadata": {},
   "source": [
    "Plot"
   ]
  },
  {
   "cell_type": "code",
   "execution_count": 13,
   "metadata": {},
   "outputs": [
    {
     "name": "stdout",
     "output_type": "stream",
     "text": [
      "1\n"
     ]
    }
   ],
   "source": [
    "plt.title('AUC_ROC of Decision Tree: Range of max depth ['+str(min(max_depth_list))+', '+str(max(max_depth_list))+']')\n",
    "color = ['red','skyblue','green']\n",
    "count=0\n",
    "for criteria in criterions:\n",
    "    plt.plot(max_depth_list, result_dict[criteria], color=color[count], label=criteria)\n",
    "    count+=1\n",
    "show_max='ROC-AUC='+str(round(best_accuracy,3))+'\\n depth='+str(best_depth) \n",
    "# move the text down a little bit\n",
    "plt.annotate(show_max,xytext=(best_depth+2,best_accuracy-0.01),xy=(best_depth,best_accuracy))\n",
    "plt.plot(best_depth,best_accuracy,'go') \n",
    "plt.legend() \n",
    "plt.xlabel('Max Depth')\n",
    "plt.ylabel('AUC_ROC')\n",
    "plt.show()\n",
    "print(1)"
   ]
  },
  {
   "attachments": {},
   "cell_type": "markdown",
   "metadata": {},
   "source": [
    "Retrain model to get parameters"
   ]
  },
  {
   "cell_type": "code",
   "execution_count": 10,
   "metadata": {},
   "outputs": [
    {
     "name": "stdout",
     "output_type": "stream",
     "text": [
      "Total 0.9748525020726886\n",
      "Sp. Atk 0.02514749792731145\n",
      "Type 1_Bug 0.0\n",
      "Type 1_Dark 0.0\n",
      "Type 1_Dragon 0.0\n",
      "Type 1_Electric 0.0\n",
      "Type 1_Fairy 0.0\n",
      "Type 1_Fighting 0.0\n",
      "Type 1_Fire 0.0\n",
      "Type 1_Flying 0.0\n"
     ]
    }
   ],
   "source": [
    "DT_model = DecisionTreeClassifier(max_depth=best_depth,criterion=best_criteria,random_state=random_seed)\n",
    "DT_model.fit(X,y)\n",
    "importance = dict()\n",
    "count=0\n",
    "for xlable in X.columns.tolist():\n",
    "    importance[xlable] =DT_model.feature_importances_[count]\n",
    "    count+=1\n",
    "sort_dict = sorted(importance.items(), key=lambda item: -item[1])\n",
    "count=0\n",
    "for key,item in sort_dict :\n",
    "    print(key,item)\n",
    "    count+=1\n",
    "    if count == 10:\n",
    "        break"
   ]
  },
  {
   "cell_type": "code",
   "execution_count": 11,
   "metadata": {},
   "outputs": [],
   "source": [
    "plot_tree(DT_model)\n",
    "plt.show()"
   ]
  },
  {
   "cell_type": "code",
   "execution_count": 12,
   "metadata": {},
   "outputs": [
    {
     "name": "stdout",
     "output_type": "stream",
     "text": [
      "[36 -2 36 36 -2 -2 40 -2 -2]\n",
      "[ 2 -1  6  5 -1 -1  8 -1 -1]\n"
     ]
    }
   ],
   "source": [
    "print(DT_model.tree_.feature)\n",
    "print(DT_model.tree_.children_right)"
   ]
  },
  {
   "attachments": {},
   "cell_type": "markdown",
   "metadata": {},
   "source": [
    "Train Random Forest"
   ]
  },
  {
   "cell_type": "code",
   "execution_count": 58,
   "metadata": {},
   "outputs": [],
   "source": [
    "criterions = ['gini', 'entropy', 'log_loss']\n",
    "n_estimators_list = range(20,2000,20)\n",
    "result_dict_RF = dict()\n",
    "best_accuracy_RF = 0\n",
    "for criteria in criterions:\n",
    "    result_dict_RF[criteria] = []\n",
    "for estimator in n_estimators_list:\n",
    "    for criteria in criterions:\n",
    "        RF = RandomForestClassifier(n_estimators=estimator,criterion=criteria,n_jobs=-1,random_state=42)\n",
    "        cv_score = np.mean(cross_val_score(RF,X,y,scoring='roc_auc',n_jobs=-1,cv=cv_fold))\n",
    "        result_dict_RF[criteria].append(cv_score)\n",
    "        if cv_score > best_accuracy_RF:\n",
    "            best_accuracy_RF = cv_score\n",
    "            best_nestimator_RF = estimator\n",
    "            best_criteria_RF = criteria\n",
    "\n"
   ]
  },
  {
   "attachments": {},
   "cell_type": "markdown",
   "metadata": {},
   "source": [
    "Plot Random Forest"
   ]
  },
  {
   "cell_type": "code",
   "execution_count": 67,
   "metadata": {},
   "outputs": [
    {
     "ename": "",
     "evalue": "",
     "output_type": "error",
     "traceback": [
      "\u001b[1;31m在当前单元格或上一个单元格中执行代码时 Kernel 崩溃。请查看单元格中的代码，以确定故障的可能原因。有关详细信息，请单击 <a href='https://aka.ms/vscodeJupyterKernelCrash'>此处</a>。有关更多详细信息，请查看 Jupyter <a href='command:jupyter.viewOutput'>log</a>。"
     ]
    }
   ],
   "source": [
    "plt.title('AUC_ROC of Random Forest: Range of n_estimators ['+str(min(n_estimators_list))+', '+str(max(n_estimators_list))+']')\n",
    "color = ['red','skyblue','green']\n",
    "count=0\n",
    "for criteria in criterions:\n",
    "    plt.plot(n_estimators_list, result_dict_RF[criteria], color=color[count], label=criteria)\n",
    "    count+=1\n",
    "show_max='AUC-ROC='+str(round(best_accuracy_RF,3))+'\\n n_estimators='+str(best_nestimator_RF) \n",
    "# move the text down a little bit\n",
    "plt.annotate(show_max,xytext=(best_nestimator_RF-600,best_accuracy_RF-0.0002),xy=(best_nestimator_RF,best_accuracy_RF))\n",
    "plt.plot(best_nestimator_RF,best_accuracy_RF,'go') \n",
    "plt.legend() \n",
    "plt.xlabel('Max Depth')\n",
    "plt.ylabel('AUC-ROC')\n",
    "plt.show()"
   ]
  },
  {
   "attachments": {},
   "cell_type": "markdown",
   "metadata": {},
   "source": [
    "Fit New Model"
   ]
  },
  {
   "cell_type": "code",
   "execution_count": null,
   "metadata": {},
   "outputs": [],
   "source": [
    "RF_new = RandomForestClassifier(n_estimators=best_nestimator_RF,criterion=best_criteria_RF,n_jobs=-1,random_state=42)\n",
    "RF_new.fit(X,y)\n",
    "RF_new.oob_decision_function_"
   ]
  }
 ],
 "metadata": {
  "kernelspec": {
   "display_name": "Python 3",
   "language": "python",
   "name": "python3"
  },
  "language_info": {
   "codemirror_mode": {
    "name": "ipython",
    "version": 3
   },
   "file_extension": ".py",
   "mimetype": "text/x-python",
   "name": "python",
   "nbconvert_exporter": "python",
   "pygments_lexer": "ipython3",
   "version": "3.10.9"
  },
  "orig_nbformat": 4,
  "vscode": {
   "interpreter": {
    "hash": "d99a3f7b344b3c3107482760db15f42178bfad658d282ab0a919b76809e13cb5"
   }
  }
 },
 "nbformat": 4,
 "nbformat_minor": 2
}
